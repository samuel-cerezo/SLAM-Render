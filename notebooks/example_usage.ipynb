{
  "cells": [
    {
      "cell_type": "markdown",
      "metadata": {},
      "source": [
        "# SLAM&Render - Example Usage\n",
        "\n",
        "This notebook shows basic examples of how to use the SLAM&Render dataset.\n",
        "\n",
        "We'll walk through:\n",
        "- Spatial alignment using robot forward kinematics and motion capture data.\n",
        "- Temporal alignment of camera timestamps with ground truth."
      ]
    },
    {
      "cell_type": "code",
      "execution_count": null,
      "metadata": {},
      "outputs": [],
      "source": [
        "# Set the dataset path and the target sequence name\n",
        "DATASET_ROOT = '/path/to/slam-render-dataset'\n",
        "SEQUENCE = '4-natural-train'"
      ]
    },
    {
      "cell_type": "markdown",
      "metadata": {},
      "source": [
        "## 📌 Spatial Alignment\n",
        "\n",
        "We align the robot's flange poses (from forward kinematics) to the world coordinate system using motion capture ground-truth data."
      ]
    },
    {
      "cell_type": "code",
      "execution_count": null,
      "metadata": {},
      "outputs": [],
      "source": [
        "!python scripts/fFlange2world.py \\\n",
        "  --path ${DATASET_ROOT}/${SEQUENCE}"
      ]
    },
    {
      "cell_type": "markdown",
      "metadata": {},
      "source": [
        "## ⏱️ Temporal Alignment\n",
        "\n",
        "Now we align the camera timestamps with the ground truth, so we can evaluate the SLAM trajectories against it."
      ]
    },
    {
      "cell_type": "code",
      "execution_count": null,
      "metadata": {},
      "outputs": [],
      "source": [
        "!python scripts/temporal_align.py \\\n",
        "  --path ${SEQUENCE}"
      ]
    },
    {
      "cell_type": "markdown",
      "metadata": {},
      "source": [
        "You now have spatially and temporally aligned trajectories ready for evaluation.\n",
        "\n",
        "Proceed with your SLAM or rendering experiments 🚀"
      ]
    }
  ],
  "metadata": {
    "kernelspec": {
      "display_name": "Python 3",
      "language": "python",
      "name": "python3"
    },
    "language_info": {
      "name": "python",
      "version": "3.9"
    }
  },
  "nbformat": 4,
  "nbformat_minor": 2
}
